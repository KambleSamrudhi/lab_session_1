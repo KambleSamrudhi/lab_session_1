{
  "nbformat": 4,
  "nbformat_minor": 0,
  "metadata": {
    "colab": {
      "provenance": [],
      "authorship_tag": "ABX9TyNv1TgoRtbxoQYrGLg30+Vu",
      "include_colab_link": true
    },
    "kernelspec": {
      "name": "python3",
      "display_name": "Python 3"
    },
    "language_info": {
      "name": "python"
    }
  },
  "cells": [
    {
      "cell_type": "markdown",
      "metadata": {
        "id": "view-in-github",
        "colab_type": "text"
      },
      "source": [
        "<a href=\"https://colab.research.google.com/github/KambleSamrudhi/lab_session_1/blob/main/Lab4.ipynb\" target=\"_parent\"><img src=\"https://colab.research.google.com/assets/colab-badge.svg\" alt=\"Open In Colab\"/></a>"
      ]
    },
    {
      "cell_type": "code",
      "execution_count": 1,
      "metadata": {
        "id": "AxFWiUHYHQZq"
      },
      "outputs": [],
      "source": [
        "import pandas as pd\n",
        "import numpy as np\n",
        "from glob import glob\n",
        "import matplotlib.pylab as plt\n",
        "import seaborn as sns\n",
        "import random\n",
        "\n",
        "import librosa\n",
        "import librosa.display\n",
        "import IPython.display as ipd\n",
        "\n",
        "from itertools import cycle"
      ]
    },
    {
      "cell_type": "code",
      "source": [
        "from google.colab import drive\n",
        "drive.mount('/content/drive')"
      ],
      "metadata": {
        "colab": {
          "base_uri": "https://localhost:8080/"
        },
        "id": "lkY77ts9Hnwn",
        "outputId": "abdb9698-a6dd-4383-e49e-e009b7a16322"
      },
      "execution_count": 2,
      "outputs": [
        {
          "output_type": "stream",
          "name": "stdout",
          "text": [
            "Drive already mounted at /content/drive; to attempt to forcibly remount, call drive.mount(\"/content/drive\", force_remount=True).\n"
          ]
        }
      ]
    },
    {
      "cell_type": "code",
      "source": [
        "def get_features(audios):\n",
        "  features_total=[]\n",
        "  for x in audios:\n",
        "    y,sr=librosa.load(x)\n",
        "    D=librosa.stft(y)\n",
        "    S_db=librosa.amplitude_to_db(np.abs(D),ref=np.max)\n",
        "    mfccs = librosa.feature.mfcc(y=y, sr=sr, n_mfcc=13)\n",
        "    features=[]\n",
        "    for f in mfccs:\n",
        "      feature=np.mean(f)\n",
        "      features.append(feature)\n",
        "    features_total.append(features)\n",
        "  features_total=np.array(features_total)\n",
        "  features_total=pd.DataFrame(features_total,columns=[\"F1\",\"F2\",\"F3\",\"F4\",\"F5\",\"F6\",\"F7\",\"F8\",\"F9\",\"F10\",\"F11\",\"F12\",\"F13\"])\n",
        "  return features_total\n"
      ],
      "metadata": {
        "id": "ZYj_XF7hQ0cm"
      },
      "execution_count": 35,
      "outputs": []
    },
    {
      "cell_type": "code",
      "source": [
        "audio_gunshot=glob('/content/drive/MyDrive/gunshot/NewSamples/*.wav')\n",
        "audio_nongunshot=glob('/content/drive/MyDrive/nongunshot/*.wav')"
      ],
      "metadata": {
        "id": "wMr4xjl3INvR"
      },
      "execution_count": 36,
      "outputs": []
    },
    {
      "cell_type": "code",
      "source": [
        "print(len(audio_nongunshot))\n",
        "print(len(audio_gunshot))\n",
        "n_gunshot=len(audio_gunshot)"
      ],
      "metadata": {
        "colab": {
          "base_uri": "https://localhost:8080/"
        },
        "id": "F35CuJvMJDbU",
        "outputId": "57395603-7442-42d8-db04-d8c949d13cba"
      },
      "execution_count": 37,
      "outputs": [
        {
          "output_type": "stream",
          "name": "stdout",
          "text": [
            "2001\n",
            "2001\n"
          ]
        }
      ]
    },
    {
      "cell_type": "code",
      "source": [
        "feature_gunshot=get_features(audio_gunshot)\n",
        "feature_nongunshot=get_features(audio_nongunshot)\n",
        "print(feature_gunshot)\n",
        "print(feature_nongunshot)"
      ],
      "metadata": {
        "colab": {
          "base_uri": "https://localhost:8080/"
        },
        "id": "LaDo8AOgSGkp",
        "outputId": "e3240948-45d7-4e4e-e975-cfb3863fcae1"
      },
      "execution_count": 39,
      "outputs": [
        {
          "output_type": "stream",
          "name": "stdout",
          "text": [
            "              F1          F2         F3         F4         F5         F6  \\\n",
            "0     -80.612846   72.504776 -27.354961  22.130665   6.420580   6.879495   \n",
            "1    -158.244675   92.391548 -35.147102  20.280228 -12.736921   5.287152   \n",
            "2     -39.460705   70.711349  -7.173842   1.122452  -8.411472   2.456978   \n",
            "3      11.992563   65.212692 -14.292504  -3.367022 -13.112868  -6.431136   \n",
            "4    -273.462921  100.864426 -37.694176  12.934394  -8.759280   2.713480   \n",
            "...          ...         ...        ...        ...        ...        ...   \n",
            "1996  -97.740379   84.179893 -18.007418  -0.471099  -6.576168   4.182005   \n",
            "1997   11.992563   65.212692 -14.292504  -3.367022 -13.112868  -6.431136   \n",
            "1998   -6.331021   92.148842 -12.213117  14.258194   9.727352   9.189886   \n",
            "1999   19.577822   82.410446  -9.388539  29.082838  12.282372  12.172611   \n",
            "2000 -266.501343   75.517090  12.336840  16.635227   7.419528  10.332873   \n",
            "\n",
            "             F7        F8         F9       F10        F11       F12        F13  \n",
            "0     -9.023723 -3.640573 -17.354559 -8.763929  -9.909994 -9.569571  -9.368330  \n",
            "1     -1.237487  0.130058   2.370760  5.061934  -0.400605  7.766297   3.267804  \n",
            "2     -7.778279 -5.655501 -14.934583 -6.964759 -11.836676 -2.945713  -6.550292  \n",
            "3    -13.485799 -8.302944 -15.031411 -7.148893  -7.374697 -3.617492 -10.217546  \n",
            "4     -6.690976  0.620421  -4.873218 -1.971179  -5.318048  2.798590   2.349691  \n",
            "...         ...       ...        ...       ...        ...       ...        ...  \n",
            "1996  -6.094759 -2.009134 -14.777897 -6.362940  -7.978182 -0.506147  -7.791087  \n",
            "1997 -13.485799 -8.302944 -15.031411 -7.148893  -7.374697 -3.617492 -10.217546  \n",
            "1998  -2.499742  2.926163  -6.618847  4.119934   1.743578  3.255228   0.316447  \n",
            "1999  -1.370840  9.660049  -0.488530  3.874275  -7.413840  0.724649  -3.219321  \n",
            "2000   6.467934  5.407514  -0.436905  2.182787   1.000030  1.660621   1.674943  \n",
            "\n",
            "[2001 rows x 13 columns]\n",
            "              F1          F2         F3         F4         F5         F6  \\\n",
            "0    -590.112549    9.783196   3.007878  -1.172401   0.459247  -0.377779   \n",
            "1    -302.705353   58.842476   9.231273  26.277491   8.652307  -1.699066   \n",
            "2    -374.494659   74.118561 -10.294890 -26.868649 -23.845718  -7.501136   \n",
            "3    -559.976624   10.176629   1.685504   1.411700   0.534193   1.338191   \n",
            "4    -196.315063   99.695297   4.808222  15.637398  12.995612  14.676497   \n",
            "...          ...         ...        ...        ...        ...        ...   \n",
            "1996 -595.855103   19.151892  -1.328653   3.614570  -6.790936   2.888824   \n",
            "1997 -550.929382    0.467078  -1.587067   0.053523   2.597705   1.149145   \n",
            "1998 -373.902893   70.615967 -15.609160 -12.631008  -3.537257  -2.381598   \n",
            "1999 -271.727203  117.016998  12.571112  13.180680   2.752094   8.351248   \n",
            "2000 -470.724335   26.154406   3.353998   3.385601  -0.894311   0.607769   \n",
            "\n",
            "             F7        F8        F9       F10        F11       F12       F13  \n",
            "0     -0.236428 -0.933891 -1.458990  0.821158  -0.485929  0.601684 -0.622990  \n",
            "1     -2.661118 -4.729509 -0.332884  6.326945   2.708534  3.391397 -3.937319  \n",
            "2    -19.292463 -8.510765 -4.016093 -6.582422  -7.030083 -8.003508 -1.600849  \n",
            "3      0.830184  0.461159  0.175548  0.261159   0.238828  0.372512  0.154521  \n",
            "4      3.067822  4.286775  1.408805  5.553073   3.207434  4.559720 -2.788736  \n",
            "...         ...       ...       ...       ...        ...       ...       ...  \n",
            "1996   7.070249  1.084556 -3.622349  5.122811   4.787707  7.329412  3.010451  \n",
            "1997   2.565983  1.994197  1.048659  1.220126  -0.002131  1.266930  1.278982  \n",
            "1998   0.761201  3.508397  2.915988 -8.821999 -12.526233 -3.215905 -1.008508  \n",
            "1999   8.281442  8.651073  0.655251  2.807689  -1.093369 -1.788978 -2.970657  \n",
            "2000  -0.584761  2.080923 -4.094954 -0.599586  -0.812498  0.165272  2.488900  \n",
            "\n",
            "[2001 rows x 13 columns]\n"
          ]
        }
      ]
    },
    {
      "cell_type": "markdown",
      "source": [
        "A1. Evaluate the intraclass spread and interclass distances between the classes in your dataset. If your data deals with multiple classes, you can take any two classes. Steps below (refer below diagram for understanding):•Calculate the mean for each class (also called as class centroid)(Suggestion: You may use numpy.mean()function for finding the average vector for all vectors in a given class. Please define the axis property appropriatelyto use this function.EX: feat_vecs.mean(axis=0))•Calculate spread (standard deviation) for each class(Suggestion: You may use numpy.std()function for finding the standard deviationvector for all vectors in a given class. Please define the axis property appropriately to use this function.)•Calculate the distance between mean vectors between classes(Suggestion: numpy.linalg.norm(centroid1 –centroid2)gives the Euclidean distance between two centroids.)\n"
      ],
      "metadata": {
        "id": "pFvg3jjIbPa4"
      }
    },
    {
      "cell_type": "code",
      "source": [
        "def stdev_mean(feature):\n",
        "  features=feature.to_numpy()\n",
        "  Mean=features.mean(axis=0)\n",
        "  STd=features.std(axis=0)\n",
        "  return Mean,STd"
      ],
      "metadata": {
        "id": "dzXcZolXXo4c"
      },
      "execution_count": 41,
      "outputs": []
    },
    {
      "cell_type": "code",
      "source": [
        "def mean_dist(gs_mean,ngs_mean):\n",
        "  distance=np.linalg.norm(gs_mean-ngs_mean)\n",
        "  return distance"
      ],
      "metadata": {
        "id": "8hzFPFwQaaAH"
      },
      "execution_count": 45,
      "outputs": []
    },
    {
      "cell_type": "code",
      "source": [
        "Gshot=stdev_mean(feature_gunshot)\n",
        "NGshot=stdev_mean(feature_nongunshot)\n",
        "mean_GS=Gshot[0]\n",
        "mean_NGS=NGshot[0]\n",
        "Dist_mean=mean_dist(mean_GS,mean_NGS)\n",
        "\n",
        "print(\"Mean of gunshot class:\",Gshot[0])\n",
        "print(\"Std. deviation of gunshot class:\",Gshot[1])\n",
        "print(\"Mean of non-gunshot class:\",NGshot[0])\n",
        "print(\"Std. deviation of non-gunshot class:\",NGshot[1])\n",
        "print(\"Distance b/w mean vectors:\",Dist_mean)"
      ],
      "metadata": {
        "colab": {
          "base_uri": "https://localhost:8080/"
        },
        "id": "5kgCJO-kYuZ8",
        "outputId": "ad9127d7-0430-445d-f36b-8e3d2e611f1c"
      },
      "execution_count": 46,
      "outputs": [
        {
          "output_type": "stream",
          "name": "stdout",
          "text": [
            "Mean of gunshot class: [-97.0093     85.64915   -10.303035   15.317025   -2.472687    7.3593216\n",
            "  -3.7456832   3.845046   -4.124648    2.0173109  -3.3275185   2.1763895\n",
            "  -2.2632344]\n",
            "Std. deviation of gunshot class: [91.03546   21.50039   16.71998   11.39473    7.983365   6.8605876\n",
            "  7.135967   5.721646   5.863864   5.1828814  5.2060604  4.4641957\n",
            "  4.064111 ]\n",
            "Mean of non-gunshot class: [-295.19836     76.21065    -13.403523    10.528703    -2.3115032\n",
            "    5.245815    -1.8763291    3.4355662   -1.2851416    2.5900488\n",
            "   -1.7148478    1.9680111   -1.3034738]\n",
            "Std. deviation of non-gunshot class: [172.82326    55.736027   32.236633   19.69085    15.991609   12.93017\n",
            "  12.089183   10.720804    9.701129    8.351387    8.378997    7.2690983\n",
            "   7.292155 ]\n",
            "Distance b/w mean vectors: 198.54633\n"
          ]
        }
      ]
    }
  ]
}